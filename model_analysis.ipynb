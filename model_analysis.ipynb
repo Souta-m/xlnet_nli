{
 "cells": [
  {
   "cell_type": "code",
   "execution_count": 51,
   "metadata": {
    "collapsed": true,
    "pycharm": {
     "is_executing": false
    }
   },
   "outputs": [
    {
     "name": "stdout",
     "text": [
      "The autoreload extension is already loaded. To reload it, use:\n  %reload_ext autoreload\n"
     ],
     "output_type": "stream"
    }
   ],
   "source": [
    "%load_ext autoreload\n",
    "%autoreload 2\n",
    "\n",
    "from modules.utils import global_args\n",
    "from modules.model import Model\n",
    "import torch"
   ]
  },
  {
   "cell_type": "code",
   "execution_count": 52,
   "outputs": [
    {
     "name": "stderr",
     "text": [
      "2019-11-26 11:45:01,279 - loading configuration file saved_models/xlnet-base-cased/config.json\n",
      "2019-11-26 11:45:01,279 - loading configuration file saved_models/xlnet-base-cased/config.json\n",
      "2019-11-26 11:45:01,281 - Model config {\n  \"attn_type\": \"bi\",\n  \"bi_data\": false,\n  \"clamp_len\": -1,\n  \"d_head\": 64,\n  \"d_inner\": 3072,\n  \"d_model\": 768,\n  \"dropout\": 0.1,\n  \"end_n_top\": 5,\n  \"ff_activation\": \"gelu\",\n  \"finetuning_task\": \"Conduct\",\n  \"initializer_range\": 0.02,\n  \"layer_norm_eps\": 1e-12,\n  \"mem_len\": null,\n  \"n_head\": 12,\n  \"n_layer\": 12,\n  \"n_token\": 32000,\n  \"num_labels\": 3,\n  \"output_attentions\": true,\n  \"output_hidden_states\": true,\n  \"pruned_heads\": {},\n  \"reuse_len\": null,\n  \"same_length\": false,\n  \"start_n_top\": 5,\n  \"summary_activation\": \"tanh\",\n  \"summary_last_dropout\": 0.1,\n  \"summary_type\": \"last\",\n  \"summary_use_proj\": true,\n  \"torchscript\": false,\n  \"untie_r\": true\n}\n\n",
      "2019-11-26 11:45:01,281 - Model config {\n  \"attn_type\": \"bi\",\n  \"bi_data\": false,\n  \"clamp_len\": -1,\n  \"d_head\": 64,\n  \"d_inner\": 3072,\n  \"d_model\": 768,\n  \"dropout\": 0.1,\n  \"end_n_top\": 5,\n  \"ff_activation\": \"gelu\",\n  \"finetuning_task\": \"Conduct\",\n  \"initializer_range\": 0.02,\n  \"layer_norm_eps\": 1e-12,\n  \"mem_len\": null,\n  \"n_head\": 12,\n  \"n_layer\": 12,\n  \"n_token\": 32000,\n  \"num_labels\": 3,\n  \"output_attentions\": true,\n  \"output_hidden_states\": true,\n  \"pruned_heads\": {},\n  \"reuse_len\": null,\n  \"same_length\": false,\n  \"start_n_top\": 5,\n  \"summary_activation\": \"tanh\",\n  \"summary_last_dropout\": 0.1,\n  \"summary_type\": \"last\",\n  \"summary_use_proj\": true,\n  \"torchscript\": false,\n  \"untie_r\": true\n}\n\n",
      "2019-11-26 11:45:01,283 - loading weights file saved_models/xlnet-base-cased/pytorch_model.bin\n",
      "2019-11-26 11:45:01,283 - loading weights file saved_models/xlnet-base-cased/pytorch_model.bin\n"
     ],
     "output_type": "stream"
    }
   ],
   "source": [
    "pretrained_weights = 'saved_models/xlnet-base-cased/pytorch_model.bin'\n",
    "pretrained_config = 'saved_models/xlnet-base-cased/config.json'\n",
    "\n",
    "argparser = global_args()\n",
    "args = argparser.parse_args('')\n",
    "model = Model(args, 'Conduct', config_file=pretrained_config, weight_file=pretrained_weights)"
   ],
   "metadata": {
    "collapsed": false,
    "pycharm": {
     "name": "#%%\n",
     "is_executing": false
    }
   }
  },
  {
   "cell_type": "code",
   "execution_count": 57,
   "outputs": [
    {
     "data": {
      "text/plain": "27"
     },
     "metadata": {},
     "output_type": "display_data"
    },
    {
     "data": {
      "text/plain": "tensor([[0.8920, 0.0096, 0.0984]], device='cuda:0')"
     },
     "metadata": {},
     "output_type": "execute_result",
     "execution_count": 57
    }
   ],
   "source": [
    "sentence_a = \"Contributions to politicians or political parties in the countries in which they are accepted may only be made with the approval of the Company's Board of Directors.\t\"\n",
    "display(len(sentence_a.split()))\n",
    "sentence_b = \"bought\"\n",
    "predictions = model.predict(sentence_a, sentence_b, softmax_scores=True)\n",
    "predictions"
   ],
   "metadata": {
    "collapsed": false,
    "pycharm": {
     "name": "#%%\n",
     "is_executing": false
    }
   }
  },
  {
   "cell_type": "code",
   "execution_count": 58,
   "outputs": [
    {
     "data": {
      "text/plain": "tensor([0], device='cuda:0')"
     },
     "metadata": {},
     "output_type": "execute_result",
     "execution_count": 58
    }
   ],
   "source": [
    "torch.argmax(predictions, dim=1)\n"
   ],
   "metadata": {
    "collapsed": false,
    "pycharm": {
     "name": "#%%\n",
     "is_executing": false
    }
   }
  },
  {
   "cell_type": "code",
   "execution_count": 54,
   "outputs": [],
   "source": [],
   "metadata": {
    "collapsed": false,
    "pycharm": {
     "name": "#%%\n",
     "is_executing": false
    }
   }
  },
  {
   "cell_type": "code",
   "execution_count": null,
   "outputs": [],
   "source": [
    "\n"
   ],
   "metadata": {
    "collapsed": false,
    "pycharm": {
     "name": "#%%\n"
    }
   }
  }
 ],
 "metadata": {
  "language_info": {
   "codemirror_mode": {
    "name": "ipython",
    "version": 2
   },
   "file_extension": ".py",
   "mimetype": "text/x-python",
   "name": "python",
   "nbconvert_exporter": "python",
   "pygments_lexer": "ipython2",
   "version": "2.7.6"
  },
  "kernelspec": {
   "name": "python3",
   "language": "python",
   "display_name": "Python 3"
  },
  "pycharm": {
   "stem_cell": {
    "cell_type": "raw",
    "source": [],
    "metadata": {
     "collapsed": false
    }
   }
  }
 },
 "nbformat": 4,
 "nbformat_minor": 0
}