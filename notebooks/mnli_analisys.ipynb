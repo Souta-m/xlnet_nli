{
 "cells": [
  {
   "cell_type": "code",
   "execution_count": 5,
   "metadata": {
    "collapsed": true,
    "pycharm": {
     "is_executing": false
    }
   },
   "outputs": [
    {
     "data": {
      "text/plain": "\"Train set columns: Index(['sentence1', 'sentence2', 'gold_label', 'genre'], dtype='object')\""
     },
     "metadata": {},
     "output_type": "display_data"
    },
    {
     "data": {
      "text/plain": "\"Val set columns: Index(['sentence1', 'sentence2', 'gold_label', 'genre'], dtype='object')\""
     },
     "metadata": {},
     "output_type": "display_data"
    }
   ],
   "source": [
    "import pandas as pd\n",
    "\n",
    "base_path = '/home/ichida/dev_env/ml/data/multinli_1.0'\n",
    "configs = {\n",
    "    'train_file': '{}/multinli_1.0_train_reduced.txt'.format(base_path),\n",
    "    'val_file': '{}/multinli_1.0_dev_matched_reduced.txt'.format(base_path)\n",
    "}\n",
    "\n",
    "df_train = pd.read_csv(configs['train_file'], sep='\\t')\n",
    "df_val = pd.read_csv(configs['val_file'], sep='\\t')\n",
    "display('Train set columns: {}'.format(df_train.columns))\n",
    "display('Val set columns: {}'.format(df_val.columns))"
   ]
  },
  {
   "cell_type": "markdown",
   "source": [
    "### Invalid labels in train and val MNLI sets"
   ],
   "metadata": {
    "collapsed": false,
    "pycharm": {
     "name": "#%% md\n"
    }
   }
  },
  {
   "cell_type": "code",
   "execution_count": 6,
   "outputs": [
    {
     "data": {
      "text/plain": "185"
     },
     "metadata": {},
     "output_type": "display_data"
    },
    {
     "data": {
      "text/plain": "0"
     },
     "metadata": {},
     "output_type": "display_data"
    }
   ],
   "source": [
    "valid_labels = ['contradiction', 'entailment', 'neutral']\n",
    "invalid_val_labels = df_val[~df_val['gold_label'].isin(valid_labels)]\n",
    "display(len(invalid_val_labels))\n",
    "\n",
    "invalid_train_labels = df_train[~df_train['gold_label'].isin(valid_labels)]\n",
    "display(len(invalid_train_labels))"
   ],
   "metadata": {
    "collapsed": false,
    "pycharm": {
     "name": "#%%\n",
     "is_executing": false
    }
   }
  },
  {
   "cell_type": "code",
   "source": [
    "glue_base_path = '/home/ichida/dev_env/ml/data/MNLI-glue'\n",
    "glue_train = '{}/train.tsv'.format(glue_base_path)\n",
    "glue_df = pd.read_csv(glue_train, sep='\\t', encoding=\"utf-8\", keep_default_na=False, error_bad_lines=False)\n",
    "\n",
    "len(glue_df)\n"
   ],
   "metadata": {
    "collapsed": false,
    "pycharm": {
     "name": "#%% \n",
     "is_executing": false
    }
   },
   "execution_count": 13,
   "outputs": [
    {
     "name": "stderr",
     "text": [
      "b'Skipping line 24810: expected 12 fields, saw 13\\nSkipping line 33961: expected 12 fields, saw 13\\n'\n",
      "b'Skipping line 75911: expected 12 fields, saw 13\\nSkipping line 100114: expected 12 fields, saw 13\\n'\n",
      "b'Skipping line 150638: expected 12 fields, saw 13\\nSkipping line 158834: expected 12 fields, saw 13\\nSkipping line 173104: expected 12 fields, saw 13\\nSkipping line 178252: expected 12 fields, saw 13\\n'\n",
      "b'Skipping line 221951: expected 12 fields, saw 13\\n'\n",
      "b'Skipping line 286845: expected 12 fields, saw 13\\nSkipping line 314110: expected 12 fields, saw 13\\n'\n"
     ],
     "output_type": "stream"
    },
    {
     "data": {
      "text/plain": "391165"
     },
     "metadata": {},
     "output_type": "execute_result",
     "execution_count": 13
    }
   ]
  },
  {
   "cell_type": "code",
   "execution_count": 14,
   "outputs": [
    {
     "data": {
      "text/plain": "392703"
     },
     "metadata": {},
     "output_type": "execute_result",
     "execution_count": 14
    }
   ],
   "source": [
    "\n",
    "# reading without pandas\n",
    "import csv\n",
    "with open(glue_train, \"r\", encoding=\"utf-8-sig\") as f:\n",
    "    reader = csv.reader(f, delimiter=\"\\t\", quotechar=None)\n",
    "    lines = []\n",
    "    for line in reader:\n",
    "        lines.append(line)\n",
    "len(lines)\n",
    "            \n"
   ],
   "metadata": {
    "collapsed": false,
    "pycharm": {
     "name": "#%%\n",
     "is_executing": false
    }
   }
  },
  {
   "cell_type": "code",
   "execution_count": 15,
   "outputs": [
    {
     "data": {
      "text/plain": "                                           sentence1  \\\n0  Conceptually cream skimming has two basic dime...   \n1  you know during the season and i guess at at y...   \n2  One of our number will carry out your instruct...   \n3  How do you know? All this is their information...   \n4  yeah i tell you what though if you go price so...   \n5  my walkman broke so i'm upset now i just have ...   \n6  But a few Christian mosaics survive above the ...   \n7   (Read  for Slate 's take on Jackson's findings.)   \n8                                 Gays and lesbians.   \n9  At the end of Rue des Francs-Bourgeois is what...   \n\n                                           sentence2     gold_label  \\\n0  Product and geography are what make cream skim...        neutral   \n1  You lose the things to the following level if ...     entailment   \n2  A member of my team will execute your orders w...     entailment   \n3                  This information belongs to them.     entailment   \n4           The tennis shoes have a range of prices.        neutral   \n5  I'm upset that my walkman broke and now I have...     entailment   \n6  Most of the Christian mosaics were destroyed b...        neutral   \n7        Slate had an opinion on Jackson's findings.     entailment   \n8                                     Heterosexuals.  contradiction   \n9  Place des Vosges is constructed entirely of gr...  contradiction   \n\n        genre  \n0  government  \n1   telephone  \n2     fiction  \n3     fiction  \n4   telephone  \n5   telephone  \n6      travel  \n7       slate  \n8       slate  \n9      travel  ",
      "text/html": "<div>\n<style scoped>\n    .dataframe tbody tr th:only-of-type {\n        vertical-align: middle;\n    }\n\n    .dataframe tbody tr th {\n        vertical-align: top;\n    }\n\n    .dataframe thead th {\n        text-align: right;\n    }\n</style>\n<table border=\"1\" class=\"dataframe\">\n  <thead>\n    <tr style=\"text-align: right;\">\n      <th></th>\n      <th>sentence1</th>\n      <th>sentence2</th>\n      <th>gold_label</th>\n      <th>genre</th>\n    </tr>\n  </thead>\n  <tbody>\n    <tr>\n      <td>0</td>\n      <td>Conceptually cream skimming has two basic dime...</td>\n      <td>Product and geography are what make cream skim...</td>\n      <td>neutral</td>\n      <td>government</td>\n    </tr>\n    <tr>\n      <td>1</td>\n      <td>you know during the season and i guess at at y...</td>\n      <td>You lose the things to the following level if ...</td>\n      <td>entailment</td>\n      <td>telephone</td>\n    </tr>\n    <tr>\n      <td>2</td>\n      <td>One of our number will carry out your instruct...</td>\n      <td>A member of my team will execute your orders w...</td>\n      <td>entailment</td>\n      <td>fiction</td>\n    </tr>\n    <tr>\n      <td>3</td>\n      <td>How do you know? All this is their information...</td>\n      <td>This information belongs to them.</td>\n      <td>entailment</td>\n      <td>fiction</td>\n    </tr>\n    <tr>\n      <td>4</td>\n      <td>yeah i tell you what though if you go price so...</td>\n      <td>The tennis shoes have a range of prices.</td>\n      <td>neutral</td>\n      <td>telephone</td>\n    </tr>\n    <tr>\n      <td>5</td>\n      <td>my walkman broke so i'm upset now i just have ...</td>\n      <td>I'm upset that my walkman broke and now I have...</td>\n      <td>entailment</td>\n      <td>telephone</td>\n    </tr>\n    <tr>\n      <td>6</td>\n      <td>But a few Christian mosaics survive above the ...</td>\n      <td>Most of the Christian mosaics were destroyed b...</td>\n      <td>neutral</td>\n      <td>travel</td>\n    </tr>\n    <tr>\n      <td>7</td>\n      <td>(Read  for Slate 's take on Jackson's findings.)</td>\n      <td>Slate had an opinion on Jackson's findings.</td>\n      <td>entailment</td>\n      <td>slate</td>\n    </tr>\n    <tr>\n      <td>8</td>\n      <td>Gays and lesbians.</td>\n      <td>Heterosexuals.</td>\n      <td>contradiction</td>\n      <td>slate</td>\n    </tr>\n    <tr>\n      <td>9</td>\n      <td>At the end of Rue des Francs-Bourgeois is what...</td>\n      <td>Place des Vosges is constructed entirely of gr...</td>\n      <td>contradiction</td>\n      <td>travel</td>\n    </tr>\n  </tbody>\n</table>\n</div>"
     },
     "metadata": {},
     "output_type": "display_data"
    },
    {
     "data": {
      "text/plain": "                                           sentence1  \\\n0  Conceptually cream skimming has two basic dime...   \n1  you know during the season and i guess at at y...   \n2  One of our number will carry out your instruct...   \n3  How do you know? All this is their information...   \n4  yeah i tell you what though if you go price so...   \n5  my walkman broke so i'm upset now i just have ...   \n6  But a few Christian mosaics survive above the ...   \n7   (Read  for Slate 's take on Jackson's findings.)   \n8                                 Gays and lesbians.   \n9  At the end of Rue des Francs-Bourgeois is what...   \n\n                                           sentence2     gold_label  \n0  Product and geography are what make cream skim...        neutral  \n1  You lose the things to the following level if ...     entailment  \n2  A member of my team will execute your orders w...     entailment  \n3                  This information belongs to them.     entailment  \n4           The tennis shoes have a range of prices.        neutral  \n5  I'm upset that my walkman broke and now I have...     entailment  \n6  Most of the Christian mosaics were destroyed b...        neutral  \n7        Slate had an opinion on Jackson's findings.     entailment  \n8                                     Heterosexuals.  contradiction  \n9  Place des Vosges is constructed entirely of gr...  contradiction  ",
      "text/html": "<div>\n<style scoped>\n    .dataframe tbody tr th:only-of-type {\n        vertical-align: middle;\n    }\n\n    .dataframe tbody tr th {\n        vertical-align: top;\n    }\n\n    .dataframe thead th {\n        text-align: right;\n    }\n</style>\n<table border=\"1\" class=\"dataframe\">\n  <thead>\n    <tr style=\"text-align: right;\">\n      <th></th>\n      <th>sentence1</th>\n      <th>sentence2</th>\n      <th>gold_label</th>\n    </tr>\n  </thead>\n  <tbody>\n    <tr>\n      <td>0</td>\n      <td>Conceptually cream skimming has two basic dime...</td>\n      <td>Product and geography are what make cream skim...</td>\n      <td>neutral</td>\n    </tr>\n    <tr>\n      <td>1</td>\n      <td>you know during the season and i guess at at y...</td>\n      <td>You lose the things to the following level if ...</td>\n      <td>entailment</td>\n    </tr>\n    <tr>\n      <td>2</td>\n      <td>One of our number will carry out your instruct...</td>\n      <td>A member of my team will execute your orders w...</td>\n      <td>entailment</td>\n    </tr>\n    <tr>\n      <td>3</td>\n      <td>How do you know? All this is their information...</td>\n      <td>This information belongs to them.</td>\n      <td>entailment</td>\n    </tr>\n    <tr>\n      <td>4</td>\n      <td>yeah i tell you what though if you go price so...</td>\n      <td>The tennis shoes have a range of prices.</td>\n      <td>neutral</td>\n    </tr>\n    <tr>\n      <td>5</td>\n      <td>my walkman broke so i'm upset now i just have ...</td>\n      <td>I'm upset that my walkman broke and now I have...</td>\n      <td>entailment</td>\n    </tr>\n    <tr>\n      <td>6</td>\n      <td>But a few Christian mosaics survive above the ...</td>\n      <td>Most of the Christian mosaics were destroyed b...</td>\n      <td>neutral</td>\n    </tr>\n    <tr>\n      <td>7</td>\n      <td>(Read  for Slate 's take on Jackson's findings.)</td>\n      <td>Slate had an opinion on Jackson's findings.</td>\n      <td>entailment</td>\n    </tr>\n    <tr>\n      <td>8</td>\n      <td>Gays and lesbians.</td>\n      <td>Heterosexuals.</td>\n      <td>contradiction</td>\n    </tr>\n    <tr>\n      <td>9</td>\n      <td>At the end of Rue des Francs-Bourgeois is what...</td>\n      <td>Place des Vosges is constructed entirely of gr...</td>\n      <td>contradiction</td>\n    </tr>\n  </tbody>\n</table>\n</div>"
     },
     "metadata": {},
     "output_type": "display_data"
    }
   ],
   "source": [
    "display(df_train[:10])\n",
    "glue_df = glue_df[['sentence1', 'sentence2', 'gold_label']]\n",
    "display(glue_df[:10])"
   ],
   "metadata": {
    "collapsed": false,
    "pycharm": {
     "name": "#%%\n",
     "is_executing": false
    }
   }
  },
  {
   "cell_type": "code",
   "execution_count": null,
   "outputs": [],
   "source": [
    "\n"
   ],
   "metadata": {
    "collapsed": false,
    "pycharm": {
     "name": "#%%\n"
    }
   }
  }
 ],
 "metadata": {
  "language_info": {
   "codemirror_mode": {
    "name": "ipython",
    "version": 2
   },
   "file_extension": ".py",
   "mimetype": "text/x-python",
   "name": "python",
   "nbconvert_exporter": "python",
   "pygments_lexer": "ipython2",
   "version": "2.7.6"
  },
  "kernelspec": {
   "name": "python3",
   "language": "python",
   "display_name": "Python 3"
  },
  "pycharm": {
   "stem_cell": {
    "cell_type": "raw",
    "source": [],
    "metadata": {
     "collapsed": false
    }
   }
  }
 },
 "nbformat": 4,
 "nbformat_minor": 0
}