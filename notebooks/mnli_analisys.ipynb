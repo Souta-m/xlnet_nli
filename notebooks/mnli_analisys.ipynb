{
 "cells": [
  {
   "cell_type": "code",
   "execution_count": 5,
   "metadata": {
    "collapsed": true,
    "pycharm": {
     "is_executing": false
    }
   },
   "outputs": [
    {
     "data": {
      "text/plain": "\"Train set columns: Index(['sentence1', 'sentence2', 'gold_label', 'genre'], dtype='object')\""
     },
     "metadata": {},
     "output_type": "display_data"
    },
    {
     "data": {
      "text/plain": "\"Val set columns: Index(['sentence1', 'sentence2', 'gold_label', 'genre'], dtype='object')\""
     },
     "metadata": {},
     "output_type": "display_data"
    }
   ],
   "source": [
    "import pandas as pd\n",
    "\n",
    "base_path = '/home/ichida/dev_env/ml/data/multinli_1.0'\n",
    "configs = {\n",
    "    'train_file': '{}/multinli_1.0_train_reduced.txt'.format(base_path),\n",
    "    'val_file': '{}/multinli_1.0_dev_matched_reduced.txt'.format(base_path)\n",
    "}\n",
    "\n",
    "df_train = pd.read_csv(configs['train_file'], sep='\\t')\n",
    "df_val = pd.read_csv(configs['val_file'], sep='\\t')\n",
    "display('Train set columns: {}'.format(df_train.columns))\n",
    "display('Val set columns: {}'.format(df_val.columns))"
   ]
  },
  {
   "cell_type": "markdown",
   "source": [
    "### Invalid labels in train and val MNLI sets"
   ],
   "metadata": {
    "collapsed": false,
    "pycharm": {
     "name": "#%% md\n"
    }
   }
  },
  {
   "cell_type": "code",
   "execution_count": 12,
   "outputs": [
    {
     "data": {
      "text/plain": "185"
     },
     "metadata": {},
     "output_type": "display_data"
    },
    {
     "data": {
      "text/plain": "0"
     },
     "metadata": {},
     "output_type": "display_data"
    }
   ],
   "source": [
    "valid_labels = ['contradiction', 'entailment', 'neutral']\n",
    "invalid_val_labels = df_val[~df_val['gold_label'].isin(valid_labels)]\n",
    "display(len(invalid_val_labels))\n",
    "\n",
    "invalid_train_labels = df_train[~df_train['gold_label'].isin(valid_labels)]\n",
    "display(len(invalid_train_labels))"
   ],
   "metadata": {
    "collapsed": false,
    "pycharm": {
     "name": "#%%\n",
     "is_executing": false
    }
   }
  },
  {
   "cell_type": "code",
   "execution_count": null,
   "outputs": [],
   "source": [
    "\n"
   ],
   "metadata": {
    "collapsed": false,
    "pycharm": {
     "name": "#%%\n"
    }
   }
  }
 ],
 "metadata": {
  "language_info": {
   "codemirror_mode": {
    "name": "ipython",
    "version": 2
   },
   "file_extension": ".py",
   "mimetype": "text/x-python",
   "name": "python",
   "nbconvert_exporter": "python",
   "pygments_lexer": "ipython2",
   "version": "2.7.6"
  },
  "kernelspec": {
   "name": "python3",
   "language": "python",
   "display_name": "Python 3"
  },
  "pycharm": {
   "stem_cell": {
    "cell_type": "raw",
    "source": [],
    "metadata": {
     "collapsed": false
    }
   }
  }
 },
 "nbformat": 4,
 "nbformat_minor": 0
}