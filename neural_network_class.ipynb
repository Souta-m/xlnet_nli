{
 "cells": [
  {
   "cell_type": "code",
   "execution_count": 4,
   "metadata": {
    "collapsed": true,
    "pycharm": {
     "is_executing": false
    }
   },
   "outputs": [],
   "source": [
    "import pandas as pd\n",
    "\n",
    "\n",
    "df = pd.read_csv('data/dados.csv')\n",
    "df.to_csv('data/dados.tsv', sep='\\t', index=False)"
   ]
  },
  {
   "cell_type": "markdown",
   "source": [
    "# Loading model\n",
    "- Loading parameters\n",
    "- Loading model config\n",
    "- Loading neural network model\n"
   ],
   "metadata": {
    "collapsed": false,
    "pycharm": {
     "name": "#%% md\n"
    }
   }
  },
  {
   "cell_type": "code",
   "execution_count": 17,
   "outputs": [
    {
     "name": "stderr",
     "text": [
      "2019-11-23 15:58:20,878 - loading configuration file saved_models/xlnet-base-cased/config.json\n",
      "2019-11-23 15:58:20,878 - loading configuration file saved_models/xlnet-base-cased/config.json\n",
      "2019-11-23 15:58:20,878 - loading configuration file saved_models/xlnet-base-cased/config.json\n",
      "2019-11-23 15:58:20,878 - loading configuration file saved_models/xlnet-base-cased/config.json\n",
      "2019-11-23 15:58:20,878 - loading configuration file saved_models/xlnet-base-cased/config.json\n",
      "2019-11-23 15:58:20,881 - Model config {\n  \"attn_type\": \"bi\",\n  \"bi_data\": false,\n  \"clamp_len\": -1,\n  \"d_head\": 64,\n  \"d_inner\": 3072,\n  \"d_model\": 768,\n  \"dropout\": 0.1,\n  \"end_n_top\": 5,\n  \"ff_activation\": \"gelu\",\n  \"finetuning_task\": \"MNLI\",\n  \"initializer_range\": 0.02,\n  \"layer_norm_eps\": 1e-12,\n  \"mem_len\": null,\n  \"n_head\": 12,\n  \"n_layer\": 12,\n  \"n_token\": 32000,\n  \"num_labels\": 3,\n  \"output_attentions\": true,\n  \"output_hidden_states\": true,\n  \"pruned_heads\": {},\n  \"reuse_len\": null,\n  \"same_length\": false,\n  \"start_n_top\": 5,\n  \"summary_activation\": \"tanh\",\n  \"summary_last_dropout\": 0.1,\n  \"summary_type\": \"last\",\n  \"summary_use_proj\": true,\n  \"torchscript\": false,\n  \"untie_r\": true\n}\n\n",
      "2019-11-23 15:58:20,881 - Model config {\n  \"attn_type\": \"bi\",\n  \"bi_data\": false,\n  \"clamp_len\": -1,\n  \"d_head\": 64,\n  \"d_inner\": 3072,\n  \"d_model\": 768,\n  \"dropout\": 0.1,\n  \"end_n_top\": 5,\n  \"ff_activation\": \"gelu\",\n  \"finetuning_task\": \"MNLI\",\n  \"initializer_range\": 0.02,\n  \"layer_norm_eps\": 1e-12,\n  \"mem_len\": null,\n  \"n_head\": 12,\n  \"n_layer\": 12,\n  \"n_token\": 32000,\n  \"num_labels\": 3,\n  \"output_attentions\": true,\n  \"output_hidden_states\": true,\n  \"pruned_heads\": {},\n  \"reuse_len\": null,\n  \"same_length\": false,\n  \"start_n_top\": 5,\n  \"summary_activation\": \"tanh\",\n  \"summary_last_dropout\": 0.1,\n  \"summary_type\": \"last\",\n  \"summary_use_proj\": true,\n  \"torchscript\": false,\n  \"untie_r\": true\n}\n\n",
      "2019-11-23 15:58:20,881 - Model config {\n  \"attn_type\": \"bi\",\n  \"bi_data\": false,\n  \"clamp_len\": -1,\n  \"d_head\": 64,\n  \"d_inner\": 3072,\n  \"d_model\": 768,\n  \"dropout\": 0.1,\n  \"end_n_top\": 5,\n  \"ff_activation\": \"gelu\",\n  \"finetuning_task\": \"MNLI\",\n  \"initializer_range\": 0.02,\n  \"layer_norm_eps\": 1e-12,\n  \"mem_len\": null,\n  \"n_head\": 12,\n  \"n_layer\": 12,\n  \"n_token\": 32000,\n  \"num_labels\": 3,\n  \"output_attentions\": true,\n  \"output_hidden_states\": true,\n  \"pruned_heads\": {},\n  \"reuse_len\": null,\n  \"same_length\": false,\n  \"start_n_top\": 5,\n  \"summary_activation\": \"tanh\",\n  \"summary_last_dropout\": 0.1,\n  \"summary_type\": \"last\",\n  \"summary_use_proj\": true,\n  \"torchscript\": false,\n  \"untie_r\": true\n}\n\n",
      "2019-11-23 15:58:20,881 - Model config {\n  \"attn_type\": \"bi\",\n  \"bi_data\": false,\n  \"clamp_len\": -1,\n  \"d_head\": 64,\n  \"d_inner\": 3072,\n  \"d_model\": 768,\n  \"dropout\": 0.1,\n  \"end_n_top\": 5,\n  \"ff_activation\": \"gelu\",\n  \"finetuning_task\": \"MNLI\",\n  \"initializer_range\": 0.02,\n  \"layer_norm_eps\": 1e-12,\n  \"mem_len\": null,\n  \"n_head\": 12,\n  \"n_layer\": 12,\n  \"n_token\": 32000,\n  \"num_labels\": 3,\n  \"output_attentions\": true,\n  \"output_hidden_states\": true,\n  \"pruned_heads\": {},\n  \"reuse_len\": null,\n  \"same_length\": false,\n  \"start_n_top\": 5,\n  \"summary_activation\": \"tanh\",\n  \"summary_last_dropout\": 0.1,\n  \"summary_type\": \"last\",\n  \"summary_use_proj\": true,\n  \"torchscript\": false,\n  \"untie_r\": true\n}\n\n",
      "2019-11-23 15:58:20,881 - Model config {\n  \"attn_type\": \"bi\",\n  \"bi_data\": false,\n  \"clamp_len\": -1,\n  \"d_head\": 64,\n  \"d_inner\": 3072,\n  \"d_model\": 768,\n  \"dropout\": 0.1,\n  \"end_n_top\": 5,\n  \"ff_activation\": \"gelu\",\n  \"finetuning_task\": \"MNLI\",\n  \"initializer_range\": 0.02,\n  \"layer_norm_eps\": 1e-12,\n  \"mem_len\": null,\n  \"n_head\": 12,\n  \"n_layer\": 12,\n  \"n_token\": 32000,\n  \"num_labels\": 3,\n  \"output_attentions\": true,\n  \"output_hidden_states\": true,\n  \"pruned_heads\": {},\n  \"reuse_len\": null,\n  \"same_length\": false,\n  \"start_n_top\": 5,\n  \"summary_activation\": \"tanh\",\n  \"summary_last_dropout\": 0.1,\n  \"summary_type\": \"last\",\n  \"summary_use_proj\": true,\n  \"torchscript\": false,\n  \"untie_r\": true\n}\n\n"
     ],
     "output_type": "stream"
    },
    {
     "traceback": [
      "\u001b[0;31m---------------------------------------------------------------------------\u001b[0m",
      "\u001b[0;31mAttributeError\u001b[0m                            Traceback (most recent call last)",
      "\u001b[0;32m<ipython-input-17-aeff359d9edb>\u001b[0m in \u001b[0;36m<module>\u001b[0;34m\u001b[0m\n\u001b[1;32m     10\u001b[0m \u001b[0mtokenizer\u001b[0m \u001b[0;34m=\u001b[0m \u001b[0mXLNetTokenizer\u001b[0m\u001b[0;34m.\u001b[0m\u001b[0mfrom_pretrained\u001b[0m\u001b[0;34m(\u001b[0m\u001b[0;34m'xlnet-base-cased'\u001b[0m\u001b[0;34m,\u001b[0m \u001b[0mdo_lower_case\u001b[0m\u001b[0;34m=\u001b[0m\u001b[0;32mTrue\u001b[0m\u001b[0;34m)\u001b[0m\u001b[0;34m\u001b[0m\u001b[0;34m\u001b[0m\u001b[0m\n\u001b[1;32m     11\u001b[0m \u001b[0mxlnet_config\u001b[0m \u001b[0;34m=\u001b[0m \u001b[0mXLNetConfig\u001b[0m\u001b[0;34m.\u001b[0m\u001b[0mfrom_pretrained\u001b[0m\u001b[0;34m(\u001b[0m\u001b[0mconfig_file\u001b[0m\u001b[0;34m)\u001b[0m\u001b[0;34m\u001b[0m\u001b[0;34m\u001b[0m\u001b[0m\n\u001b[0;32m---> 12\u001b[0;31m \u001b[0mdata_reader\u001b[0m \u001b[0;34m=\u001b[0m \u001b[0mConductDatasetReader\u001b[0m\u001b[0;34m(\u001b[0m\u001b[0margs\u001b[0m\u001b[0;34m,\u001b[0m \u001b[0mtokenizer\u001b[0m\u001b[0;34m,\u001b[0m \u001b[0mlogger\u001b[0m\u001b[0;34m)\u001b[0m\u001b[0;34m\u001b[0m\u001b[0;34m\u001b[0m\u001b[0m\n\u001b[0m\u001b[1;32m     13\u001b[0m \u001b[0mmodel\u001b[0m \u001b[0;34m=\u001b[0m \u001b[0mXLNetForSequenceClassification\u001b[0m\u001b[0;34m.\u001b[0m\u001b[0mfrom_pretrained\u001b[0m\u001b[0;34m(\u001b[0m\u001b[0mmodel_file\u001b[0m\u001b[0;34m,\u001b[0m \u001b[0mconfig\u001b[0m\u001b[0;34m=\u001b[0m\u001b[0mxlnet_config\u001b[0m\u001b[0;34m)\u001b[0m\u001b[0;34m\u001b[0m\u001b[0;34m\u001b[0m\u001b[0m\n",
      "\u001b[0;32m~/dev_env/xlnet-nli/modules/preprocess.py\u001b[0m in \u001b[0;36m__init__\u001b[0;34m(self, args, tokenizer, log)\u001b[0m\n\u001b[1;32m     28\u001b[0m         \"\"\"\n\u001b[1;32m     29\u001b[0m         \u001b[0mself\u001b[0m\u001b[0;34m.\u001b[0m\u001b[0mtokenizer\u001b[0m \u001b[0;34m=\u001b[0m \u001b[0mtokenizer\u001b[0m\u001b[0;34m\u001b[0m\u001b[0;34m\u001b[0m\u001b[0m\n\u001b[0;32m---> 30\u001b[0;31m         \u001b[0mself\u001b[0m\u001b[0;34m.\u001b[0m\u001b[0mmax_seq_len\u001b[0m \u001b[0;34m=\u001b[0m \u001b[0margs\u001b[0m\u001b[0;34m.\u001b[0m\u001b[0mmax_seq_len\u001b[0m\u001b[0;34m\u001b[0m\u001b[0;34m\u001b[0m\u001b[0m\n\u001b[0m\u001b[1;32m     31\u001b[0m         \u001b[0mself\u001b[0m\u001b[0;34m.\u001b[0m\u001b[0mbatch_size\u001b[0m \u001b[0;34m=\u001b[0m \u001b[0margs\u001b[0m\u001b[0;34m.\u001b[0m\u001b[0mbatch_size\u001b[0m\u001b[0;34m\u001b[0m\u001b[0;34m\u001b[0m\u001b[0m\n\u001b[1;32m     32\u001b[0m         \u001b[0mself\u001b[0m\u001b[0;34m.\u001b[0m\u001b[0mval_batch_size\u001b[0m \u001b[0;34m=\u001b[0m \u001b[0margs\u001b[0m\u001b[0;34m.\u001b[0m\u001b[0mval_batch_size\u001b[0m\u001b[0;34m\u001b[0m\u001b[0;34m\u001b[0m\u001b[0m\n",
      "\u001b[0;31mAttributeError\u001b[0m: 'ArgumentParser' object has no attribute 'max_seq_len'"
     ],
     "ename": "AttributeError",
     "evalue": "'ArgumentParser' object has no attribute 'max_seq_len'",
     "output_type": "error"
    }
   ],
   "source": [
    "import torch\n",
    "import os\n",
    "from pytorch_transformers import XLNetForSequenceClassification, XLNetConfig, XLNetTokenizer\n",
    "from modules.preprocess import ConductDatasetReader\n",
    "\n",
    "nli_model_path = 'saved_models/xlnet-base-cased/'\n",
    "model_file = os.path.join(nli_model_path, 'pytorch_model.bin')\n",
    "config_file = os.path.join(nli_model_path, 'config.json')"
   ],
   "metadata": {
    "collapsed": false,
    "pycharm": {
     "name": "#%%\n",
     "is_executing": false
    }
   }
  },
  {
   "cell_type": "code",
   "execution_count": null,
   "outputs": [],
   "source": [
    "\n"
   ],
   "metadata": {
    "collapsed": false,
    "pycharm": {
     "name": "#%%\n"
    }
   }
  }
 ],
 "metadata": {
  "language_info": {
   "codemirror_mode": {
    "name": "ipython",
    "version": 2
   },
   "file_extension": ".py",
   "mimetype": "text/x-python",
   "name": "python",
   "nbconvert_exporter": "python",
   "pygments_lexer": "ipython2",
   "version": "2.7.6"
  },
  "kernelspec": {
   "name": "python3",
   "language": "python",
   "display_name": "Python 3"
  },
  "pycharm": {
   "stem_cell": {
    "cell_type": "raw",
    "source": [],
    "metadata": {
     "collapsed": false
    }
   }
  }
 },
 "nbformat": 4,
 "nbformat_minor": 0
}