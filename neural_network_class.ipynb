{
 "cells": [
  {
   "cell_type": "markdown",
   "source": [
    "# Result Analysis"
   ],
   "metadata": {
    "collapsed": false,
    "pycharm": {
     "name": "#%% md\n"
    }
   }
  },
  {
   "cell_type": "code",
   "execution_count": 7,
   "outputs": [
    {
     "data": {
      "text/plain": "                                             conduct  \\\n0  Whenever there's a doubt, company lawyers must...   \n1  Respect differences in gender, sexual identity...   \n2  Everyone must be treated with equality and tra...   \n\n                                           complaint      nli_class  \\\n0  A, employee, uses the name of the company in c...  contradiction   \n1  A, employee, uses the name of the company in c...  contradiction   \n2  A, employee, uses the name of the company in c...  contradiction   \n\n   nli_contradiction_score  nli_entailment_score  nli_neutral_score conflict  \n0                 0.813910              0.005303           0.180787       no  \n1                 0.686443              0.003390           0.310167       no  \n2                 0.785564              0.003406           0.211030       no  ",
      "text/html": "<div>\n<style scoped>\n    .dataframe tbody tr th:only-of-type {\n        vertical-align: middle;\n    }\n\n    .dataframe tbody tr th {\n        vertical-align: top;\n    }\n\n    .dataframe thead th {\n        text-align: right;\n    }\n</style>\n<table border=\"1\" class=\"dataframe\">\n  <thead>\n    <tr style=\"text-align: right;\">\n      <th></th>\n      <th>conduct</th>\n      <th>complaint</th>\n      <th>nli_class</th>\n      <th>nli_contradiction_score</th>\n      <th>nli_entailment_score</th>\n      <th>nli_neutral_score</th>\n      <th>conflict</th>\n    </tr>\n  </thead>\n  <tbody>\n    <tr>\n      <th>0</th>\n      <td>Whenever there's a doubt, company lawyers must...</td>\n      <td>A, employee, uses the name of the company in c...</td>\n      <td>contradiction</td>\n      <td>0.813910</td>\n      <td>0.005303</td>\n      <td>0.180787</td>\n      <td>no</td>\n    </tr>\n    <tr>\n      <th>1</th>\n      <td>Respect differences in gender, sexual identity...</td>\n      <td>A, employee, uses the name of the company in c...</td>\n      <td>contradiction</td>\n      <td>0.686443</td>\n      <td>0.003390</td>\n      <td>0.310167</td>\n      <td>no</td>\n    </tr>\n    <tr>\n      <th>2</th>\n      <td>Everyone must be treated with equality and tra...</td>\n      <td>A, employee, uses the name of the company in c...</td>\n      <td>contradiction</td>\n      <td>0.785564</td>\n      <td>0.003406</td>\n      <td>0.211030</td>\n      <td>no</td>\n    </tr>\n  </tbody>\n</table>\n</div>"
     },
     "metadata": {},
     "output_type": "execute_result",
     "execution_count": 7
    }
   ],
   "source": [
    "import pandas as pd\n",
    "result_df = pd.read_csv('results/final_results.tsv', sep='\\t')\n",
    "result_df[:3]"
   ],
   "metadata": {
    "collapsed": false,
    "pycharm": {
     "name": "#%%\n",
     "is_executing": false
    }
   }
  },
  {
   "cell_type": "code",
   "execution_count": 8,
   "outputs": [],
   "source": [
    "conflict_df = result_df[result_df['conflict'] == 'yes']\n"
   ],
   "metadata": {
    "collapsed": false,
    "pycharm": {
     "name": "#%%\n",
     "is_executing": false
    }
   }
  },
  {
   "cell_type": "markdown",
   "source": [
    "- Number of conflicting sentence pairs for each NLI class "
   ],
   "metadata": {
    "collapsed": false,
    "pycharm": {
     "name": "#%% md\n"
    }
   }
  },
  {
   "cell_type": "code",
   "execution_count": 11,
   "outputs": [
    {
     "data": {
      "text/plain": "neutral          16\ncontradiction    10\nentailment        1\nName: nli_class, dtype: int64"
     },
     "metadata": {},
     "output_type": "display_data"
    },
    {
     "data": {
      "text/plain": "       nli_contradiction_score  nli_entailment_score  nli_neutral_score\ncount                27.000000             27.000000          27.000000\nmean                  0.330414              0.041102           0.628484\nstd                   0.333697              0.121671           0.338425\nmin                   0.008999              0.001139           0.071310\n25%                   0.055540              0.002991           0.285433\n50%                   0.138845              0.004162           0.740635\n75%                   0.649306              0.010279           0.930277\nmax                   0.927552              0.587849           0.988392",
      "text/html": "<div>\n<style scoped>\n    .dataframe tbody tr th:only-of-type {\n        vertical-align: middle;\n    }\n\n    .dataframe tbody tr th {\n        vertical-align: top;\n    }\n\n    .dataframe thead th {\n        text-align: right;\n    }\n</style>\n<table border=\"1\" class=\"dataframe\">\n  <thead>\n    <tr style=\"text-align: right;\">\n      <th></th>\n      <th>nli_contradiction_score</th>\n      <th>nli_entailment_score</th>\n      <th>nli_neutral_score</th>\n    </tr>\n  </thead>\n  <tbody>\n    <tr>\n      <th>count</th>\n      <td>27.000000</td>\n      <td>27.000000</td>\n      <td>27.000000</td>\n    </tr>\n    <tr>\n      <th>mean</th>\n      <td>0.330414</td>\n      <td>0.041102</td>\n      <td>0.628484</td>\n    </tr>\n    <tr>\n      <th>std</th>\n      <td>0.333697</td>\n      <td>0.121671</td>\n      <td>0.338425</td>\n    </tr>\n    <tr>\n      <th>min</th>\n      <td>0.008999</td>\n      <td>0.001139</td>\n      <td>0.071310</td>\n    </tr>\n    <tr>\n      <th>25%</th>\n      <td>0.055540</td>\n      <td>0.002991</td>\n      <td>0.285433</td>\n    </tr>\n    <tr>\n      <th>50%</th>\n      <td>0.138845</td>\n      <td>0.004162</td>\n      <td>0.740635</td>\n    </tr>\n    <tr>\n      <th>75%</th>\n      <td>0.649306</td>\n      <td>0.010279</td>\n      <td>0.930277</td>\n    </tr>\n    <tr>\n      <th>max</th>\n      <td>0.927552</td>\n      <td>0.587849</td>\n      <td>0.988392</td>\n    </tr>\n  </tbody>\n</table>\n</div>"
     },
     "metadata": {},
     "output_type": "execute_result",
     "execution_count": 11
    }
   ],
   "source": [
    "display(conflict_df['nli_class'].value_counts())\n",
    "conflict_df.describe()"
   ],
   "metadata": {
    "collapsed": false,
    "pycharm": {
     "name": "#%%\n",
     "is_executing": false
    }
   }
  },
  {
   "cell_type": "markdown",
   "source": [
    "## Qualitative Analysis\n",
    "- List of conflicting sentence pair that were classified as NEUTRAL"
   ],
   "metadata": {
    "collapsed": false,
    "pycharm": {
     "name": "#%% md\n",
     "is_executing": false
    }
   }
  },
  {
   "cell_type": "code",
   "execution_count": 14,
   "outputs": [
    {
     "data": {
      "text/plain": "<IPython.core.display.HTML object>",
      "text/html": "<table border=\"1\" class=\"dataframe\">\n  <thead>\n    <tr style=\"text-align: right;\">\n      <th></th>\n      <th>conduct</th>\n      <th>complaint</th>\n      <th>nli_contradiction_score</th>\n      <th>nli_entailment_score</th>\n      <th>nli_neutral_score</th>\n    </tr>\n  </thead>\n  <tbody>\n    <tr>\n      <th>114</th>\n      <td>Work team members are responsible for improperly obtaining from civil servants, customers or competitors objects or favors to the detriment of the Company.</td>\n      <td>A, employee, sells company products for a costumer without passing the money from the sale to the company.</td>\n      <td>0.067608</td>\n      <td>0.011087</td>\n      <td>0.921305</td>\n    </tr>\n    <tr>\n      <th>152</th>\n      <td>Work team members are responsible for acts of corruption that they perform to circumvent the laws to gain advantage for themselves or the Company by promising, inducing, offering, delivering or authorizing the delivery of objects or favors to public officials.</td>\n      <td>A, employee, does a payment in cash for B, public agent, aiming to get an illegal environmental licensing.</td>\n      <td>0.077708</td>\n      <td>0.002894</td>\n      <td>0.919398</td>\n    </tr>\n    <tr>\n      <th>230</th>\n      <td>Work team members are responsible for acts of corruption that they perform to circumvent the laws to gain advantage for themselves or the Company by promising, inducing, offering, delivering or authorizing the delivery of objects or favors to public officials.</td>\n      <td>A, employee, offered bribe for a public agent in Exchange of tax fine exemption.</td>\n      <td>0.035502</td>\n      <td>0.009470</td>\n      <td>0.955028</td>\n    </tr>\n    <tr>\n      <th>269</th>\n      <td>Work team members are responsible for acts of corruption that they perform to circumvent the laws to gain advantage for themselves or the Company by promising, inducing, offering, delivering or authorizing the delivery of objects or favors to public officials.</td>\n      <td>A, employee, pays a judge $1000,00 meal after the company favorable judicial decision</td>\n      <td>0.058194</td>\n      <td>0.002557</td>\n      <td>0.939249</td>\n    </tr>\n    <tr>\n      <th>308</th>\n      <td>Work team members are responsible for acts of corruption that they perform to circumvent the laws to gain advantage for themselves or the Company by promising, inducing, offering, delivering or authorizing the delivery of objects or favors to public officials.</td>\n      <td>A, employee, uses his company badge to preserve personal interest before de state.</td>\n      <td>0.214037</td>\n      <td>0.109761</td>\n      <td>0.676202</td>\n    </tr>\n    <tr>\n      <th>332</th>\n      <td>The privacy of registration, information, operation and contract data of customers, suppliers and business partners must be preserved by staff members.</td>\n      <td>A, employee, uses confidential information, obtained from his work, to blackmail the company owners.</td>\n      <td>0.255734</td>\n      <td>0.003631</td>\n      <td>0.740635</td>\n    </tr>\n    <tr>\n      <th>346</th>\n      <td>Work team members may not enter into agreements or transactions with Company competitors, except on behalf of the Company.</td>\n      <td>A, employee, uses confidential information, obtained from his work, to blackmail the company owners.</td>\n      <td>0.044396</td>\n      <td>0.004162</td>\n      <td>0.951442</td>\n    </tr>\n    <tr>\n      <th>384</th>\n      <td>Work team members may not work for companies, or be partners with companies that operate in the same industry.</td>\n      <td>A, employee, Works for a competitor using the knowledge acquired in his work at the company.</td>\n      <td>0.092541</td>\n      <td>0.018224</td>\n      <td>0.889235</td>\n    </tr>\n    <tr>\n      <th>415</th>\n      <td>Competition fraud is prohibited.</td>\n      <td>A, employee, leaked confidential information to a competing company that patented a product that was under development at the company.</td>\n      <td>0.031835</td>\n      <td>0.009310</td>\n      <td>0.958855</td>\n    </tr>\n    <tr>\n      <th>454</th>\n      <td>Competition fraud is prohibited.</td>\n      <td>A, employee, patented a product that was under development, as if was his.</td>\n      <td>0.138845</td>\n      <td>0.007971</td>\n      <td>0.853184</td>\n    </tr>\n    <tr>\n      <th>1056</th>\n      <td>Obey the limits of human rights to human dignity, personal worth, life, freedom, freedom of expression and opinion, free association, work and education.</td>\n      <td>A, employee, threats B, another employee, with a fire weapon, at the company headquartes.</td>\n      <td>0.280633</td>\n      <td>0.012013</td>\n      <td>0.707354</td>\n    </tr>\n    <tr>\n      <th>1095</th>\n      <td>Obey the limits of human rights to human dignity, personal worth, life, freedom, freedom of expression and opinion, free association, work and education.</td>\n      <td>A, employee, presented at company dependencies, on July 5th 2019, carrying dynamite.</td>\n      <td>0.093938</td>\n      <td>0.003501</td>\n      <td>0.902561</td>\n    </tr>\n    <tr>\n      <th>1138</th>\n      <td>It is forbidden to use alcohol and illicit drugs in the workplace.</td>\n      <td>A, employee, attended work at the company on the 3rd of august after cocaine use.</td>\n      <td>0.008999</td>\n      <td>0.002608</td>\n      <td>0.988392</td>\n    </tr>\n    <tr>\n      <th>1184</th>\n      <td>Staff members are responsible for the conservation and protection of Company assets, including data, information, facilities, machinery, equipment, vehicles and money.</td>\n      <td>C, employee, systems analyst, provides Company’s CEO password for D, competitor company employee, to access the e-mail and get confidential information.</td>\n      <td>0.026907</td>\n      <td>0.008405</td>\n      <td>0.964688</td>\n    </tr>\n    <tr>\n      <th>1185</th>\n      <td>Information technology resources such as telephones, e-mail, internet access, software, hardware, and others available to members of the work are for work purposes only.</td>\n      <td>C, employee, systems analyst, provides Company’s CEO password for D, competitor company employee, to access the e-mail and get confidential information.</td>\n      <td>0.052886</td>\n      <td>0.004811</td>\n      <td>0.942303</td>\n    </tr>\n    <tr>\n      <th>1223</th>\n      <td>Staff members are responsible for the conservation and protection of Company assets, including data, information, facilities, machinery, equipment, vehicles and money.</td>\n      <td>A, employee, went to the beach with a company vehicle without authorization.</td>\n      <td>0.078286</td>\n      <td>0.003539</td>\n      <td>0.918175</td>\n    </tr>\n  </tbody>\n</table>"
     },
     "metadata": {},
     "output_type": "display_data"
    }
   ],
   "source": [
    "from IPython.display import display, HTML\n",
    "neutral_samples = conflict_df[conflict_df['nli_class'] == 'neutral']\n",
    "neutral_samples = neutral_samples[['conduct','complaint','nli_contradiction_score', 'nli_entailment_score', 'nli_neutral_score' ]]\n",
    "display(HTML(neutral_samples.to_html()))\n"
   ],
   "metadata": {
    "collapsed": false,
    "pycharm": {
     "name": "#%%\n",
     "is_executing": false
    }
   }
  },
  {
   "cell_type": "markdown",
   "source": [
    "- List of confliting sentence pairs that were classified as CONTRADICTION"
   ],
   "metadata": {
    "collapsed": false,
    "pycharm": {
     "name": "#%% md\n"
    }
   }
  },
  {
   "cell_type": "code",
   "execution_count": 15,
   "outputs": [
    {
     "data": {
      "text/plain": "<IPython.core.display.HTML object>",
      "text/html": "<table border=\"1\" class=\"dataframe\">\n  <thead>\n    <tr style=\"text-align: right;\">\n      <th></th>\n      <th>conduct</th>\n      <th>complaint</th>\n      <th>nli_contradiction_score</th>\n      <th>nli_entailment_score</th>\n      <th>nli_neutral_score</th>\n    </tr>\n  </thead>\n  <tbody>\n    <tr>\n      <th>75</th>\n      <td>Work team members are responsible for improperly obtaining from civil servants, customers or competitors objects or favors to the detriment of the Company.</td>\n      <td>A, employee, receives a direct payment from company costumer to work directly for the customer, without company knowledge.</td>\n      <td>0.503518</td>\n      <td>0.018148</td>\n      <td>0.478334</td>\n    </tr>\n    <tr>\n      <th>191</th>\n      <td>Work team members are responsible for acts of corruption that they perform to circumvent the laws to gain advantage for themselves or the Company by promising, inducing, offering, delivering or authorizing the delivery of objects or favors to public officials.</td>\n      <td>A, employee, does a comercial trade with no relation with the company aiming to get benefit in public bidding.</td>\n      <td>0.480098</td>\n      <td>0.267372</td>\n      <td>0.252530</td>\n    </tr>\n    <tr>\n      <th>781</th>\n      <td>Respect differences in gender, sexual identity, sexual orientation, religion, races, cultures, nationalities, social classes, ages and characteristics.</td>\n      <td>A, employee, refuses to sell products for a black costumer.</td>\n      <td>0.722828</td>\n      <td>0.004080</td>\n      <td>0.273093</td>\n    </tr>\n    <tr>\n      <th>820</th>\n      <td>Respect differences in gender, sexual identity, sexual orientation, religion, races, cultures, nationalities, social classes, ages and characteristics.</td>\n      <td>A, employee, refuses to sell products for a homosexual costumer.</td>\n      <td>0.699138</td>\n      <td>0.003088</td>\n      <td>0.297774</td>\n    </tr>\n    <tr>\n      <th>859</th>\n      <td>Respect differences in gender, sexual identity, sexual orientation, religion, races, cultures, nationalities, social classes, ages and characteristics.</td>\n      <td>A, employee, refuses to sell products for a female costumer.</td>\n      <td>0.927552</td>\n      <td>0.001139</td>\n      <td>0.071310</td>\n    </tr>\n    <tr>\n      <th>898</th>\n      <td>Respect differences in gender, sexual identity, sexual orientation, religion, races, cultures, nationalities, social classes, ages and characteristics.</td>\n      <td>A, employee, refuses to sell products for an elderly costumer.</td>\n      <td>0.774232</td>\n      <td>0.002427</td>\n      <td>0.223341</td>\n    </tr>\n    <tr>\n      <th>937</th>\n      <td>Respect differences in gender, sexual identity, sexual orientation, religion, races, cultures, nationalities, social classes, ages and characteristics.</td>\n      <td>A, employee, refuses to sell products for a jew costumer.</td>\n      <td>0.837834</td>\n      <td>0.003717</td>\n      <td>0.158448</td>\n    </tr>\n    <tr>\n      <th>976</th>\n      <td>Respect differences in gender, sexual identity, sexual orientation, religion, races, cultures, nationalities, social classes, ages and characteristics.</td>\n      <td>A, employee, refuses to sell products for a costumer with special needs.</td>\n      <td>0.885671</td>\n      <td>0.001889</td>\n      <td>0.112440</td>\n    </tr>\n    <tr>\n      <th>1017</th>\n      <td>Obey the limits of human rights to human dignity, personal worth, life, freedom, freedom of expression and opinion, free association, work and education.</td>\n      <td>A, employee, orders to kill B, also an employee.</td>\n      <td>0.886149</td>\n      <td>0.001730</td>\n      <td>0.112121</td>\n    </tr>\n    <tr>\n      <th>1264</th>\n      <td>Data, recordings, and information produced by staff members and kept in digital copy or on Company information systems are the sole property of the Company.</td>\n      <td>A, employee, took home company bank statements.</td>\n      <td>0.599473</td>\n      <td>0.004373</td>\n      <td>0.396153</td>\n    </tr>\n  </tbody>\n</table>"
     },
     "metadata": {},
     "output_type": "display_data"
    }
   ],
   "source": [
    "contradiction_samples = conflict_df[conflict_df['nli_class'] == 'contradiction']\n",
    "contradiction_samples = contradiction_samples[['conduct','complaint','nli_contradiction_score', 'nli_entailment_score', 'nli_neutral_score' ]]\n",
    "display(HTML(contradiction_samples.to_html()))\n",
    "\n"
   ],
   "metadata": {
    "collapsed": false,
    "pycharm": {
     "name": "#%%\n",
     "is_executing": false
    }
   }
  },
  {
   "cell_type": "code",
   "execution_count": null,
   "outputs": [],
   "source": [
    "\n"
   ],
   "metadata": {
    "collapsed": false,
    "pycharm": {
     "name": "#%%\n"
    }
   }
  }
 ],
 "metadata": {
  "language_info": {
   "codemirror_mode": {
    "name": "ipython",
    "version": 2
   },
   "file_extension": ".py",
   "mimetype": "text/x-python",
   "name": "python",
   "nbconvert_exporter": "python",
   "pygments_lexer": "ipython2",
   "version": "2.7.6"
  },
  "kernelspec": {
   "name": "python3",
   "language": "python",
   "display_name": "Python 3"
  },
  "pycharm": {
   "stem_cell": {
    "cell_type": "raw",
    "source": [],
    "metadata": {
     "collapsed": false
    }
   }
  }
 },
 "nbformat": 4,
 "nbformat_minor": 0
}